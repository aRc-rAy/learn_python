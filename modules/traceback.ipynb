{
 "cells": [
  {
   "cell_type": "code",
   "execution_count": 1,
   "metadata": {},
   "outputs": [],
   "source": [
    "import traceback"
   ]
  },
  {
   "cell_type": "code",
   "execution_count": 42,
   "metadata": {},
   "outputs": [
    {
     "name": "stdout",
     "output_type": "stream",
     "text": [
      "\n",
      "None\n",
      "\n",
      "\n",
      "Traceback (most recent call last):\n",
      "  File \"C:\\Users\\ykuma\\AppData\\Local\\Temp\\ipykernel_16608\\3262801431.py\", line 2, in <module>\n",
      "    1/0\n",
      "ZeroDivisionError: division by zero\n",
      "\n"
     ]
    },
    {
     "name": "stderr",
     "output_type": "stream",
     "text": [
      "  File \"C:\\Users\\ykuma\\AppData\\Local\\Temp\\ipykernel_16608\\3262801431.py\", line 2, in <module>\n",
      "    1/0\n",
      "Traceback (most recent call last):\n",
      "  File \"C:\\Users\\ykuma\\AppData\\Local\\Temp\\ipykernel_16608\\3262801431.py\", line 2, in <module>\n",
      "    1/0\n",
      "ZeroDivisionError: division by zero\n"
     ]
    }
   ],
   "source": [
    "try:\n",
    "      1/0\n",
    "except Exception as e:\n",
    "      traceback.print_tb(e.__traceback__)\n",
    "      print()\n",
    "      print( traceback.print_exc())\n",
    "      print(\"\\n\")\n",
    "      \n",
    "      msg=traceback.format_exc()\n",
    "      print(msg)\n",
    "     "
   ]
  },
  {
   "cell_type": "code",
   "execution_count": 2,
   "metadata": {},
   "outputs": [
    {
     "name": "stderr",
     "output_type": "stream",
     "text": [
      "Traceback (most recent call last):\n",
      "  File \"C:\\Users\\ykuma\\AppData\\Local\\Temp\\ipykernel_16608\\907784206.py\", line 2, in <module>\n",
      "    1 / 0  # Division by zero error\n",
      "ZeroDivisionError: division by zero\n"
     ]
    }
   ],
   "source": [
    "try:\n",
    "    1 / 0  # Division by zero error\n",
    "except Exception:\n",
    "    traceback.print_exc()\n"
   ]
  },
  {
   "cell_type": "code",
   "execution_count": 3,
   "metadata": {},
   "outputs": [
    {
     "name": "stdout",
     "output_type": "stream",
     "text": [
      "Captured Error:\n",
      "Traceback (most recent call last):\n",
      "  File \"C:\\Users\\ykuma\\AppData\\Local\\Temp\\ipykernel_16608\\2529914037.py\", line 2, in <module>\n",
      "    [][1]  # IndexError\n",
      "IndexError: list index out of range\n",
      "\n"
     ]
    }
   ],
   "source": [
    "try:\n",
    "    [][1]  # IndexError\n",
    "except Exception:\n",
    "    error_message = traceback.format_exc()\n",
    "    print(\"Captured Error:\")\n",
    "    print(error_message)\n"
   ]
  },
  {
   "cell_type": "code",
   "execution_count": 4,
   "metadata": {},
   "outputs": [
    {
     "name": "stdout",
     "output_type": "stream",
     "text": [
      "[<FrameSummary file C:\\Users\\ykuma\\AppData\\Local\\Temp\\ipykernel_16608\\2555148683.py, line 2 in <module>>]\n"
     ]
    }
   ],
   "source": [
    "try:\n",
    "    1 / 0\n",
    "except Exception as e:\n",
    "    tb = traceback.extract_tb(e.__traceback__)\n",
    "    print(tb)\n"
   ]
  },
  {
   "cell_type": "code",
   "execution_count": 5,
   "metadata": {},
   "outputs": [
    {
     "name": "stdout",
     "output_type": "stream",
     "text": [
      "Traceback details:\n",
      "['  File \"C:\\\\Users\\\\ykuma\\\\AppData\\\\Local\\\\Temp\\\\ipykernel_16608\\\\3308272730.py\", line 2, in <module>\\n    x = 1 / 0\\n']\n"
     ]
    }
   ],
   "source": [
    "try:\n",
    "    x = 1 / 0\n",
    "except Exception as e:\n",
    "    tb = traceback.format_tb(e.__traceback__)\n",
    "    print(\"Traceback details:\")\n",
    "    print(tb)\n"
   ]
  },
  {
   "cell_type": "code",
   "execution_count": 6,
   "metadata": {},
   "outputs": [
    {
     "name": "stderr",
     "output_type": "stream",
     "text": [
      "  File \"C:\\Users\\ykuma\\AppData\\Local\\Temp\\ipykernel_16608\\1510184895.py\", line 2, in <module>\n",
      "    1 / 0\n"
     ]
    }
   ],
   "source": [
    "try:\n",
    "    1 / 0\n",
    "except Exception as e:\n",
    "    traceback.print_tb(e.__traceback__)\n"
   ]
  },
  {
   "cell_type": "code",
   "execution_count": null,
   "metadata": {},
   "outputs": [],
   "source": []
  }
 ],
 "metadata": {
  "kernelspec": {
   "display_name": "Python 3",
   "language": "python",
   "name": "python3"
  },
  "language_info": {
   "codemirror_mode": {
    "name": "ipython",
    "version": 3
   },
   "file_extension": ".py",
   "mimetype": "text/x-python",
   "name": "python",
   "nbconvert_exporter": "python",
   "pygments_lexer": "ipython3",
   "version": "3.9.0"
  }
 },
 "nbformat": 4,
 "nbformat_minor": 2
}
