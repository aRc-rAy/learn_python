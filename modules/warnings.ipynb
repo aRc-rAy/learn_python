{
 "cells": [
  {
   "cell_type": "code",
   "execution_count": 1,
   "metadata": {},
   "outputs": [],
   "source": [
    "import warnings\n"
   ]
  },
  {
   "cell_type": "code",
   "execution_count": 31,
   "metadata": {},
   "outputs": [],
   "source": [
    "warnings.simplefilter(action='ignore', category=FutureWarning)"
   ]
  },
  {
   "cell_type": "code",
   "execution_count": 2,
   "metadata": {},
   "outputs": [
    {
     "name": "stderr",
     "output_type": "stream",
     "text": [
      "C:\\Users\\ykuma\\AppData\\Local\\Temp\\ipykernel_19704\\3773826375.py:3: UserWarning: Negative value detected!\n",
      "  warnings.warn(\"Negative value detected!\", UserWarning)\n"
     ]
    }
   ],
   "source": [
    "def check_value(x):\n",
    "    if x < 0:\n",
    "        warnings.warn(\"Negative value detected!\", UserWarning)\n",
    "\n",
    "check_value(-5)\n"
   ]
  },
  {
   "cell_type": "code",
   "execution_count": 29,
   "metadata": {},
   "outputs": [],
   "source": [
    "warnings.warn(\"This is a warning message!\", UserWarning)\n",
    "# warnings.simplefilter(\"ignore\", UserWarning)\n",
    "warnings.simplefilter(action=\"ignore\", category=UserWarning)\n",
    "warnings.warn(\"This will not be shown!\")\n"
   ]
  },
  {
   "cell_type": "code",
   "execution_count": 30,
   "metadata": {},
   "outputs": [
    {
     "name": "stderr",
     "output_type": "stream",
     "text": [
      "C:\\Users\\ykuma\\AppData\\Local\\Temp\\ipykernel_19704\\1190390905.py:2: UserWarning: This warning will be shown.\n",
      "  warnings.warn(\"This warning will be shown.\")\n"
     ]
    }
   ],
   "source": [
    "warnings.resetwarnings()\n",
    "warnings.warn(\"This warning will be shown.\")\n"
   ]
  },
  {
   "cell_type": "code",
   "execution_count": null,
   "metadata": {},
   "outputs": [],
   "source": []
  }
 ],
 "metadata": {
  "kernelspec": {
   "display_name": "Python 3",
   "language": "python",
   "name": "python3"
  },
  "language_info": {
   "codemirror_mode": {
    "name": "ipython",
    "version": 3
   },
   "file_extension": ".py",
   "mimetype": "text/x-python",
   "name": "python",
   "nbconvert_exporter": "python",
   "pygments_lexer": "ipython3",
   "version": "3.9.0"
  }
 },
 "nbformat": 4,
 "nbformat_minor": 2
}
